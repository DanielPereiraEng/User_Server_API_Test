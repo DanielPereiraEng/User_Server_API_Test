{
 "cells": [
  {
   "cell_type": "code",
   "execution_count": 4,
   "id": "a825cb68",
   "metadata": {},
   "outputs": [
    {
     "name": "stdout",
     "output_type": "stream",
     "text": [
      " * Serving Flask app '__main__'\n",
      " * Debug mode: on\n"
     ]
    },
    {
     "name": "stderr",
     "output_type": "stream",
     "text": [
      "WARNING: This is a development server. Do not use it in a production deployment. Use a production WSGI server instead.\n",
      " * Running on http://127.0.0.1:5000\n",
      "Press CTRL+C to quit\n",
      " * Restarting with watchdog (windowsapi)\n"
     ]
    },
    {
     "ename": "SystemExit",
     "evalue": "1",
     "output_type": "error",
     "traceback": [
      "An exception has occurred, use %tb to see the full traceback.\n",
      "\u001b[1;31mSystemExit\u001b[0m\u001b[1;31m:\u001b[0m 1\n"
     ]
    }
   ],
   "source": [
    "from flask import Flask, jsonify, request\n",
    "import datetime\n",
    "import requests\n",
    "\n",
    "app = Flask(__name__)\n",
    "\n",
    "# Endpoint para obter data e hora atual\n",
    "@app.route('/datetime', methods=['GET'])\n",
    "def get_datetime():\n",
    "    # Obtendo a data e hora atuais\n",
    "    current_datetime = datetime.datetime.now().strftime(\"%Y-%m-%d %H:%M:%S\")\n",
    "    \n",
    "    # Retornando a resposta\n",
    "    return jsonify({\"datetime\": current_datetime})\n",
    "\n",
    "# Endpoint para obter informações meteorológicas com base na localização do usuário\n",
    "@app.route('/weather', methods=['GET'])\n",
    "def get_weather():\n",
    "    # Obtendo a latitude e longitude do IP do usuário (pode ser melhorado posteriormente)\n",
    "    ip = request.remote_addr\n",
    "    location_url = f'http://ip-api.com/json/{ip}'\n",
    "    location_response = requests.get(location_url)\n",
    "    location_data = location_response.json()\n",
    "    lat = location_data['lat']\n",
    "    lon = location_data['lon']\n",
    "    \n",
    "    # Chave de API da OpenWeatherMap (você precisa obter sua própria chave)\n",
    "    api_key = 'sua_chave_aqui'\n",
    "    \n",
    "    # URL da API para obter informações meteorológicas com base na latitude e longitude\n",
    "    weather_url = f'http://api.openweathermap.org/data/2.5/weather?lat={lat}&lon={lon}&appid={api_key}'\n",
    "    weather_response = requests.get(weather_url)\n",
    "    weather_data = weather_response.json()\n",
    "    \n",
    "    # Extrair informações relevantes (por exemplo, temperatura atual)\n",
    "    temperature_kelvin = weather_data['main']['temp']\n",
    "    temperature_celsius = temperature_kelvin - 273.15\n",
    "    \n",
    "    # Retornar a resposta\n",
    "    return jsonify({\"temperature\": temperature_celsius})\n",
    "\n",
    "# Endpoint para obter informações sobre tráfego em estradas próximas\n",
    "@app.route('/traffic', methods=['GET'])\n",
    "def get_traffic():\n",
    "    # Aqui você pode fazer uma solicitação para uma API externa que fornece informações sobre o tráfego em tempo real\n",
    "    # Por exemplo, a Google Maps API ou a Here API\n",
    "    \n",
    "    # Placeholder URL para uma API fictícia de tráfego\n",
    "    traffic_url = 'http://api.fake-traffic.com/traffic'\n",
    "    traffic_response = requests.get(traffic_url)\n",
    "    traffic_data = traffic_response.json()\n",
    "    \n",
    "    return jsonify(traffic_data)\n",
    "\n",
    "# Endpoint para encontrar restaurantes próximos\n",
    "@app.route('/restaurants', methods=['GET'])\n",
    "def get_restaurants():\n",
    "    # Aqui você pode fazer uma solicitação para uma API externa que fornece informações sobre restaurantes próximos\n",
    "    # Por exemplo, a Yelp API ou a Google Places API\n",
    "    \n",
    "    # Placeholder URL para uma API fictícia de restaurantes\n",
    "    restaurants_url = 'http://api.fake-restaurants.com/restaurants'\n",
    "    restaurants_response = requests.get(restaurants_url)\n",
    "    restaurants_data = restaurants_response.json()\n",
    "    \n",
    "    return jsonify(restaurants_data)\n",
    "\n",
    "# Endpoint para encontrar hospitais próximos\n",
    "@app.route('/hospitals', methods=['GET'])\n",
    "def get_hospitals():\n",
    "    # Aqui você pode fazer uma solicitação para uma API externa que fornece informações sobre hospitais próximos\n",
    "    # Por exemplo, a Google Places API ou a OpenStreetMap API\n",
    "    \n",
    "    # Placeholder URL para uma API fictícia de hospitais\n",
    "    hospitals_url = 'http://api.fake-hospitals.com/hospitals'\n",
    "    hospitals_response = requests.get(hospitals_url)\n",
    "    hospitals_data = hospitals_response.json()\n",
    "    \n",
    "    return jsonify(hospitals_data)\n",
    "\n",
    "# Endpoint para encontrar pontos de ônibus próximos\n",
    "@app.route('/bus_stops', methods=['GET'])\n",
    "def get_bus_stops():\n",
    "    # Aqui você pode fazer uma solicitação para uma API externa que fornece informações sobre pontos de ônibus próximos\n",
    "    # Por exemplo, a Google Maps API ou a Here API\n",
    "    \n",
    "    # Placeholder URL para uma API fictícia de pontos de ônibus\n",
    "    bus_stops_url = 'http://api.fake-busstops.com/busstops'\n",
    "    bus_stops_response = requests.get(bus_stops_url)\n",
    "    bus_stops_data = bus_stops_response.json()\n",
    "    \n",
    "    return jsonify(bus_stops_data)\n",
    "\n",
    "if __name__ == '__main__':\n",
    "    app.run(debug=True)\n"
   ]
  },
  {
   "cell_type": "code",
   "execution_count": null,
   "id": "a4677fdb",
   "metadata": {},
   "outputs": [],
   "source": []
  }
 ],
 "metadata": {
  "kernelspec": {
   "display_name": "Python 3 (ipykernel)",
   "language": "python",
   "name": "python3"
  },
  "language_info": {
   "codemirror_mode": {
    "name": "ipython",
    "version": 3
   },
   "file_extension": ".py",
   "mimetype": "text/x-python",
   "name": "python",
   "nbconvert_exporter": "python",
   "pygments_lexer": "ipython3",
   "version": "3.11.5"
  }
 },
 "nbformat": 4,
 "nbformat_minor": 5
}
